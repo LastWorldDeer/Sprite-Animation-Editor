{
 "cells": [
  {
   "cell_type": "code",
   "execution_count": 1,
   "metadata": {},
   "outputs": [
    {
     "name": "stdout",
     "output_type": "stream",
     "text": [
      "pygame 2.5.0 (SDL 2.28.0, Python 3.11.4)\n",
      "Hello from the pygame community. https://www.pygame.org/contribute.html\n"
     ]
    }
   ],
   "source": [
    "import pygame\n",
    "\n",
    "def start():\n",
    "    pygame.init()\n",
    "    AppTitle = \"Hello Window\"\n",
    "    screen = pygame.display.set_mode((400,300))\n",
    "    pygame.display.set_caption(AppTitle)\n",
    "    clock = pygame.time.Clock()\n",
    "    running = True\n",
    "    clearCOLOR = (0xff,0,0)\n",
    "\n",
    "\n",
    "    while running:\n",
    "        for event in pygame.event.get():\n",
    "            if event.type == pygame.QUIT:\n",
    "                running = False\n",
    "        screen.fill(clearCOLOR)\n",
    "        pygame.display.update()\n",
    "        clock.tick(60)\n",
    "    pygame.quit()\n",
    "\n",
    "start()"
   ]
  }
 ],
 "metadata": {
  "kernelspec": {
   "display_name": ".py_env",
   "language": "python",
   "name": "python3"
  },
  "language_info": {
   "codemirror_mode": {
    "name": "ipython",
    "version": 3
   },
   "file_extension": ".py",
   "mimetype": "text/x-python",
   "name": "python",
   "nbconvert_exporter": "python",
   "pygments_lexer": "ipython3",
   "version": "3.11.4"
  },
  "orig_nbformat": 4
 },
 "nbformat": 4,
 "nbformat_minor": 2
}
