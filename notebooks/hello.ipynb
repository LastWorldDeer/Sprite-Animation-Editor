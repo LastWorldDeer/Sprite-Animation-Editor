{
 "cells": [
  {
   "cell_type": "code",
   "execution_count": 4,
   "metadata": {},
   "outputs": [],
   "source": [
    "import pygame\n",
    "\n",
    "def start():\n",
    "    pygame.init()\n",
    "    AppTitle = \"Hello Window\"\n",
    "    screen = pygame.display.set_mode((1080,720))\n",
    "    pygame.display.set_caption(AppTitle)\n",
    "    clock = pygame.time.Clock()\n",
    "    running = True\n",
    "    clearCOLOR = (0x00,0x09,0x0B)\n",
    "\n",
    "\n",
    "    while running:\n",
    "        for event in pygame.event.get():\n",
    "            if event.type == pygame.QUIT or (event.type == pygame.KEYDOWN and event.key == pygame.K_ESCAPE):\n",
    "                running = False\n",
    "        screen.fill(clearCOLOR)\n",
    "        pygame.display.update()\n",
    "        clock.tick(60)\n",
    "    pygame.quit()\n",
    "\n",
    "start()"
   ]
  }
 ],
 "metadata": {
  "kernelspec": {
   "display_name": ".py_env",
   "language": "python",
   "name": "python3"
  },
  "language_info": {
   "codemirror_mode": {
    "name": "ipython",
    "version": 3
   },
   "file_extension": ".py",
   "mimetype": "text/x-python",
   "name": "python",
   "nbconvert_exporter": "python",
   "pygments_lexer": "ipython3",
   "version": "3.11.4"
  },
  "orig_nbformat": 4
 },
 "nbformat": 4,
 "nbformat_minor": 2
}
